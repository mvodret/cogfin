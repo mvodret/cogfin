{
 "cells": [
  {
   "cell_type": "code",
   "execution_count": 3,
   "id": "236de7cb",
   "metadata": {
    "ExecuteTime": {
     "end_time": "2024-03-18T09:40:18.364531Z",
     "start_time": "2024-03-18T09:40:18.341100Z"
    }
   },
   "outputs": [],
   "source": [
    "import numpy as np\n",
    "import matplotlib.pyplot as plt\n",
    "import pandas as pd\n",
    "import seaborn as sns\n",
    "\n",
    "def autocorrelation(data, lag):\n",
    "    n = len(data)\n",
    "    mean = np.mean(data)\n",
    "    \n",
    "    numerator = np.sum((data[lag:] - mean) * (data[:n-lag] - mean))\n",
    "    denominator = np.sum((data - mean)**2)\n",
    "    \n",
    "    return numerator / denominator\n",
    "\n",
    "# Create a sample time series data\n",
    "data = np.random.randn(100)\n",
    "\n",
    "# Calculate the ACF for a specific lag (e.g., lag = 1)\n",
    "lag = 1\n",
    "\n",
    "def correlation(x, y, taus):\n",
    "    \"\"\"Inputs :\n",
    "    x: pd.Series\n",
    "    y: pd.Series\n",
    "    taus: array of integers\n",
    "    Returns:\n",
    "    A numpy array containing the correlation function as the average x(t)*y(t+tau)\n",
    "    for each value of tau in taus\"\"\"\n",
    "    def c_group(T):\n",
    "        return (x*y.shift(-T)).mean()\n",
    "    c_g = np.vectorize(c_group)\n",
    "    return c_g(taus)"
   ]
  },
  {
   "cell_type": "code",
   "execution_count": 4,
   "id": "c054a1a9",
   "metadata": {
    "ExecuteTime": {
     "end_time": "2024-03-18T09:40:19.311104Z",
     "start_time": "2024-03-18T09:40:18.472918Z"
    }
   },
   "outputs": [],
   "source": [
    "df_2 = pd.read_csv('df_2.csv')\n",
    "\n",
    "df_2 = df_2.sort_values(by=['subject', 't'])\n",
    "\n",
    "for i in range(0,len(df_2.subject.unique())):\n",
    "    \n",
    "    subj = df_2.subject.unique()[i]\n",
    "\n",
    "    df_subj = df_2[df_2['subject']==subj]\n",
    "\n",
    "    W_ora = np.zeros(63)\n",
    "    r_pre = np.zeros(63)\n",
    "    for t in range(0,63): \n",
    "    \n",
    "    #W_ora[t] = W_ora[t-1]+r[t-1]\n",
    "\n",
    "    #W_ora[t] = W_ora[t]*(1-actions[t-1])*(states[t-1]+1)/2\n",
    "\n",
    "    #W = W_ora[t]\n",
    "        \n",
    "        if t!=0:\n",
    "            \n",
    "            W_ora[t] = W_ora[t-1]+df_subj.r.values[t-1]\n",
    "\n",
    "            W_ora[t] = W_ora[t]*(1-df_subj.a.values[t-1])*(df_subj.s.values[t-1]+1)/2\n",
    "\n",
    "            r_pre[t] = df_subj.r.values[t-1]\n",
    "\n",
    "    if i == 0:\n",
    "\n",
    "        W = W_ora\n",
    "        \n",
    "        r = r_pre\n",
    "\n",
    "    else:\n",
    "\n",
    "        W = np.append(W, W_ora)\n",
    "        \n",
    "        r = np.append(r, r_pre)\n",
    "\n",
    "df_2['W_ora'] = W\n",
    "df_2['r_pre'] = r\n",
    "\n",
    "df = df_2.drop(columns = ['Unnamed: 0', 'hatr','netw','etas','r_shift','hatr_shift'])\n",
    "\n",
    "df = df.reset_index().drop(columns = 'index')"
   ]
  },
  {
   "cell_type": "code",
   "execution_count": null,
   "id": "32536359",
   "metadata": {},
   "outputs": [],
   "source": []
  }
 ],
 "metadata": {
  "kernelspec": {
   "display_name": "Python 3 (ipykernel)",
   "language": "python",
   "name": "python3"
  },
  "language_info": {
   "codemirror_mode": {
    "name": "ipython",
    "version": 3
   },
   "file_extension": ".py",
   "mimetype": "text/x-python",
   "name": "python",
   "nbconvert_exporter": "python",
   "pygments_lexer": "ipython3",
   "version": "3.9.7"
  },
  "toc": {
   "base_numbering": 1,
   "nav_menu": {},
   "number_sections": true,
   "sideBar": true,
   "skip_h1_title": false,
   "title_cell": "Table of Contents",
   "title_sidebar": "Contents",
   "toc_cell": false,
   "toc_position": {},
   "toc_section_display": true,
   "toc_window_display": false
  }
 },
 "nbformat": 4,
 "nbformat_minor": 5
}
